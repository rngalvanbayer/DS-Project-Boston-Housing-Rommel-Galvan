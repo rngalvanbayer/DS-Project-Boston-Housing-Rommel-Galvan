{
    "cells": [
        {
            "cell_type": "markdown",
            "metadata": {
                "collapsed": true
            },
            "source": [
                "## Project - Statistics for Data Science with Python\n",
                "##### Rommel Galvan"
            ]
        },
        {
            "cell_type": "markdown",
            "metadata": {},
            "source": [
                "### Load Dataset"
            ]
        },
        {
            "cell_type": "code",
            "execution_count": 22,
            "metadata": {},
            "outputs": [],
            "source": [
                "import pandas as pd\n",
                "import numpy as np\n",
                "import seaborn as sns\n",
                "import matplotlib.pyplot as plt\n",
                "import scipy.stats\n",
                "import statsmodels.api as sm"
            ]
        },
        {
            "cell_type": "markdown",
            "metadata": {},
            "source": [
                "### Task 1: Become familiar with the dataset\n",
                "The following describes the dataset variables:\n",
                "\n",
                "·      CRIM - per capita crime rate by town\n",
                "\n",
                "·      ZN - proportion of residential land zoned for lots over 25,000 sq.ft.\n",
                "\n",
                "·      INDUS - proportion of non-retail business acres per town.\n",
                "\n",
                "·      CHAS - Charles River dummy variable (1 if tract bounds river; 0 otherwise)\n",
                "\n",
                "·      NOX - nitric oxides concentration (parts per 10 million)\n",
                "\n",
                "·      RM - average number of rooms per dwelling\n",
                "\n",
                "·      AGE - proportion of owner-occupied units built prior to 1940\n",
                "\n",
                "·      DIS - weighted distances to five Boston employment centres\n",
                "\n",
                "·      RAD - index of accessibility to radial highways\n",
                "\n",
                "·      TAX - full-value property-tax rate per $10,000\n",
                "\n",
                "·      PTRATIO - pupil-teacher ratio by town\n",
                "\n",
                "·      LSTAT - % lower status of the population\n",
                "\n",
                "·      MEDV - Median value of owner-occupied homes in $1000's"
            ]
        },
        {
            "cell_type": "markdown",
            "metadata": {},
            "source": [
                "### Task 3: Load in the Dataset in your Jupyter Notebook"
            ]
        },
        {
            "cell_type": "code",
            "execution_count": 23,
            "metadata": {},
            "outputs": [],
            "source": [
                "## boston_url = 'https://cf-courses-data.s3.us.cloud-object-storage.appdomain.cloud/IBMDeveloperSkillsNetwork-ST0151EN-SkillsNetwork/labs/boston_housing.csv'\n",
                "boston_url = 'boston_housing.csv'\n",
                "boston_df=pd.read_csv(boston_url)\n"
            ]
        },
        {
            "cell_type": "code",
            "execution_count": 24,
            "metadata": {},
            "outputs": [
                {
                    "data": {
                        "text/html": [
                            "<div>\n",
                            "<style scoped>\n",
                            "    .dataframe tbody tr th:only-of-type {\n",
                            "        vertical-align: middle;\n",
                            "    }\n",
                            "\n",
                            "    .dataframe tbody tr th {\n",
                            "        vertical-align: top;\n",
                            "    }\n",
                            "\n",
                            "    .dataframe thead th {\n",
                            "        text-align: right;\n",
                            "    }\n",
                            "</style>\n",
                            "<table border=\"1\" class=\"dataframe\">\n",
                            "  <thead>\n",
                            "    <tr style=\"text-align: right;\">\n",
                            "      <th></th>\n",
                            "      <th>Unnamed: 0</th>\n",
                            "      <th>CRIM</th>\n",
                            "      <th>ZN</th>\n",
                            "      <th>INDUS</th>\n",
                            "      <th>CHAS</th>\n",
                            "      <th>NOX</th>\n",
                            "      <th>RM</th>\n",
                            "      <th>AGE</th>\n",
                            "      <th>DIS</th>\n",
                            "      <th>RAD</th>\n",
                            "      <th>TAX</th>\n",
                            "      <th>PTRATIO</th>\n",
                            "      <th>LSTAT</th>\n",
                            "      <th>MEDV</th>\n",
                            "    </tr>\n",
                            "  </thead>\n",
                            "  <tbody>\n",
                            "    <tr>\n",
                            "      <th>count</th>\n",
                            "      <td>506.000000</td>\n",
                            "      <td>506.000000</td>\n",
                            "      <td>506.000000</td>\n",
                            "      <td>506.000000</td>\n",
                            "      <td>506.000000</td>\n",
                            "      <td>506.000000</td>\n",
                            "      <td>506.000000</td>\n",
                            "      <td>506.000000</td>\n",
                            "      <td>506.000000</td>\n",
                            "      <td>506.000000</td>\n",
                            "      <td>506.000000</td>\n",
                            "      <td>506.000000</td>\n",
                            "      <td>506.000000</td>\n",
                            "      <td>506.000000</td>\n",
                            "    </tr>\n",
                            "    <tr>\n",
                            "      <th>mean</th>\n",
                            "      <td>252.500000</td>\n",
                            "      <td>3.613524</td>\n",
                            "      <td>11.363636</td>\n",
                            "      <td>11.136779</td>\n",
                            "      <td>0.069170</td>\n",
                            "      <td>0.554695</td>\n",
                            "      <td>6.284634</td>\n",
                            "      <td>68.574901</td>\n",
                            "      <td>3.795043</td>\n",
                            "      <td>9.549407</td>\n",
                            "      <td>408.237154</td>\n",
                            "      <td>18.455534</td>\n",
                            "      <td>12.653063</td>\n",
                            "      <td>22.532806</td>\n",
                            "    </tr>\n",
                            "    <tr>\n",
                            "      <th>std</th>\n",
                            "      <td>146.213884</td>\n",
                            "      <td>8.601545</td>\n",
                            "      <td>23.322453</td>\n",
                            "      <td>6.860353</td>\n",
                            "      <td>0.253994</td>\n",
                            "      <td>0.115878</td>\n",
                            "      <td>0.702617</td>\n",
                            "      <td>28.148861</td>\n",
                            "      <td>2.105710</td>\n",
                            "      <td>8.707259</td>\n",
                            "      <td>168.537116</td>\n",
                            "      <td>2.164946</td>\n",
                            "      <td>7.141062</td>\n",
                            "      <td>9.197104</td>\n",
                            "    </tr>\n",
                            "    <tr>\n",
                            "      <th>min</th>\n",
                            "      <td>0.000000</td>\n",
                            "      <td>0.006320</td>\n",
                            "      <td>0.000000</td>\n",
                            "      <td>0.460000</td>\n",
                            "      <td>0.000000</td>\n",
                            "      <td>0.385000</td>\n",
                            "      <td>3.561000</td>\n",
                            "      <td>2.900000</td>\n",
                            "      <td>1.129600</td>\n",
                            "      <td>1.000000</td>\n",
                            "      <td>187.000000</td>\n",
                            "      <td>12.600000</td>\n",
                            "      <td>1.730000</td>\n",
                            "      <td>5.000000</td>\n",
                            "    </tr>\n",
                            "    <tr>\n",
                            "      <th>25%</th>\n",
                            "      <td>126.250000</td>\n",
                            "      <td>0.082045</td>\n",
                            "      <td>0.000000</td>\n",
                            "      <td>5.190000</td>\n",
                            "      <td>0.000000</td>\n",
                            "      <td>0.449000</td>\n",
                            "      <td>5.885500</td>\n",
                            "      <td>45.025000</td>\n",
                            "      <td>2.100175</td>\n",
                            "      <td>4.000000</td>\n",
                            "      <td>279.000000</td>\n",
                            "      <td>17.400000</td>\n",
                            "      <td>6.950000</td>\n",
                            "      <td>17.025000</td>\n",
                            "    </tr>\n",
                            "    <tr>\n",
                            "      <th>50%</th>\n",
                            "      <td>252.500000</td>\n",
                            "      <td>0.256510</td>\n",
                            "      <td>0.000000</td>\n",
                            "      <td>9.690000</td>\n",
                            "      <td>0.000000</td>\n",
                            "      <td>0.538000</td>\n",
                            "      <td>6.208500</td>\n",
                            "      <td>77.500000</td>\n",
                            "      <td>3.207450</td>\n",
                            "      <td>5.000000</td>\n",
                            "      <td>330.000000</td>\n",
                            "      <td>19.050000</td>\n",
                            "      <td>11.360000</td>\n",
                            "      <td>21.200000</td>\n",
                            "    </tr>\n",
                            "    <tr>\n",
                            "      <th>75%</th>\n",
                            "      <td>378.750000</td>\n",
                            "      <td>3.677083</td>\n",
                            "      <td>12.500000</td>\n",
                            "      <td>18.100000</td>\n",
                            "      <td>0.000000</td>\n",
                            "      <td>0.624000</td>\n",
                            "      <td>6.623500</td>\n",
                            "      <td>94.075000</td>\n",
                            "      <td>5.188425</td>\n",
                            "      <td>24.000000</td>\n",
                            "      <td>666.000000</td>\n",
                            "      <td>20.200000</td>\n",
                            "      <td>16.955000</td>\n",
                            "      <td>25.000000</td>\n",
                            "    </tr>\n",
                            "    <tr>\n",
                            "      <th>max</th>\n",
                            "      <td>505.000000</td>\n",
                            "      <td>88.976200</td>\n",
                            "      <td>100.000000</td>\n",
                            "      <td>27.740000</td>\n",
                            "      <td>1.000000</td>\n",
                            "      <td>0.871000</td>\n",
                            "      <td>8.780000</td>\n",
                            "      <td>100.000000</td>\n",
                            "      <td>12.126500</td>\n",
                            "      <td>24.000000</td>\n",
                            "      <td>711.000000</td>\n",
                            "      <td>22.000000</td>\n",
                            "      <td>37.970000</td>\n",
                            "      <td>50.000000</td>\n",
                            "    </tr>\n",
                            "  </tbody>\n",
                            "</table>\n",
                            "</div>"
                        ],
                        "text/plain": [
                            "       Unnamed: 0        CRIM          ZN       INDUS        CHAS         NOX  \\\n",
                            "count  506.000000  506.000000  506.000000  506.000000  506.000000  506.000000   \n",
                            "mean   252.500000    3.613524   11.363636   11.136779    0.069170    0.554695   \n",
                            "std    146.213884    8.601545   23.322453    6.860353    0.253994    0.115878   \n",
                            "min      0.000000    0.006320    0.000000    0.460000    0.000000    0.385000   \n",
                            "25%    126.250000    0.082045    0.000000    5.190000    0.000000    0.449000   \n",
                            "50%    252.500000    0.256510    0.000000    9.690000    0.000000    0.538000   \n",
                            "75%    378.750000    3.677083   12.500000   18.100000    0.000000    0.624000   \n",
                            "max    505.000000   88.976200  100.000000   27.740000    1.000000    0.871000   \n",
                            "\n",
                            "               RM         AGE         DIS         RAD         TAX     PTRATIO  \\\n",
                            "count  506.000000  506.000000  506.000000  506.000000  506.000000  506.000000   \n",
                            "mean     6.284634   68.574901    3.795043    9.549407  408.237154   18.455534   \n",
                            "std      0.702617   28.148861    2.105710    8.707259  168.537116    2.164946   \n",
                            "min      3.561000    2.900000    1.129600    1.000000  187.000000   12.600000   \n",
                            "25%      5.885500   45.025000    2.100175    4.000000  279.000000   17.400000   \n",
                            "50%      6.208500   77.500000    3.207450    5.000000  330.000000   19.050000   \n",
                            "75%      6.623500   94.075000    5.188425   24.000000  666.000000   20.200000   \n",
                            "max      8.780000  100.000000   12.126500   24.000000  711.000000   22.000000   \n",
                            "\n",
                            "            LSTAT        MEDV  \n",
                            "count  506.000000  506.000000  \n",
                            "mean    12.653063   22.532806  \n",
                            "std      7.141062    9.197104  \n",
                            "min      1.730000    5.000000  \n",
                            "25%      6.950000   17.025000  \n",
                            "50%     11.360000   21.200000  \n",
                            "75%     16.955000   25.000000  \n",
                            "max     37.970000   50.000000  "
                        ]
                    },
                    "execution_count": 24,
                    "metadata": {},
                    "output_type": "execute_result"
                }
            ],
            "source": [
                "boston_df.describe()"
            ]
        },
        {
            "cell_type": "code",
            "execution_count": 25,
            "metadata": {},
            "outputs": [
                {
                    "data": {
                        "text/html": [
                            "<div>\n",
                            "<style scoped>\n",
                            "    .dataframe tbody tr th:only-of-type {\n",
                            "        vertical-align: middle;\n",
                            "    }\n",
                            "\n",
                            "    .dataframe tbody tr th {\n",
                            "        vertical-align: top;\n",
                            "    }\n",
                            "\n",
                            "    .dataframe thead th {\n",
                            "        text-align: right;\n",
                            "    }\n",
                            "</style>\n",
                            "<table border=\"1\" class=\"dataframe\">\n",
                            "  <thead>\n",
                            "    <tr style=\"text-align: right;\">\n",
                            "      <th></th>\n",
                            "      <th>Unnamed: 0</th>\n",
                            "      <th>CRIM</th>\n",
                            "      <th>ZN</th>\n",
                            "      <th>INDUS</th>\n",
                            "      <th>CHAS</th>\n",
                            "      <th>NOX</th>\n",
                            "      <th>RM</th>\n",
                            "      <th>AGE</th>\n",
                            "      <th>DIS</th>\n",
                            "      <th>RAD</th>\n",
                            "      <th>TAX</th>\n",
                            "      <th>PTRATIO</th>\n",
                            "      <th>LSTAT</th>\n",
                            "      <th>MEDV</th>\n",
                            "    </tr>\n",
                            "  </thead>\n",
                            "  <tbody>\n",
                            "    <tr>\n",
                            "      <th>0</th>\n",
                            "      <td>0</td>\n",
                            "      <td>0.00632</td>\n",
                            "      <td>18.0</td>\n",
                            "      <td>2.31</td>\n",
                            "      <td>0.0</td>\n",
                            "      <td>0.538</td>\n",
                            "      <td>6.575</td>\n",
                            "      <td>65.2</td>\n",
                            "      <td>4.0900</td>\n",
                            "      <td>1.0</td>\n",
                            "      <td>296.0</td>\n",
                            "      <td>15.3</td>\n",
                            "      <td>4.98</td>\n",
                            "      <td>24.0</td>\n",
                            "    </tr>\n",
                            "    <tr>\n",
                            "      <th>1</th>\n",
                            "      <td>1</td>\n",
                            "      <td>0.02731</td>\n",
                            "      <td>0.0</td>\n",
                            "      <td>7.07</td>\n",
                            "      <td>0.0</td>\n",
                            "      <td>0.469</td>\n",
                            "      <td>6.421</td>\n",
                            "      <td>78.9</td>\n",
                            "      <td>4.9671</td>\n",
                            "      <td>2.0</td>\n",
                            "      <td>242.0</td>\n",
                            "      <td>17.8</td>\n",
                            "      <td>9.14</td>\n",
                            "      <td>21.6</td>\n",
                            "    </tr>\n",
                            "    <tr>\n",
                            "      <th>2</th>\n",
                            "      <td>2</td>\n",
                            "      <td>0.02729</td>\n",
                            "      <td>0.0</td>\n",
                            "      <td>7.07</td>\n",
                            "      <td>0.0</td>\n",
                            "      <td>0.469</td>\n",
                            "      <td>7.185</td>\n",
                            "      <td>61.1</td>\n",
                            "      <td>4.9671</td>\n",
                            "      <td>2.0</td>\n",
                            "      <td>242.0</td>\n",
                            "      <td>17.8</td>\n",
                            "      <td>4.03</td>\n",
                            "      <td>34.7</td>\n",
                            "    </tr>\n",
                            "    <tr>\n",
                            "      <th>3</th>\n",
                            "      <td>3</td>\n",
                            "      <td>0.03237</td>\n",
                            "      <td>0.0</td>\n",
                            "      <td>2.18</td>\n",
                            "      <td>0.0</td>\n",
                            "      <td>0.458</td>\n",
                            "      <td>6.998</td>\n",
                            "      <td>45.8</td>\n",
                            "      <td>6.0622</td>\n",
                            "      <td>3.0</td>\n",
                            "      <td>222.0</td>\n",
                            "      <td>18.7</td>\n",
                            "      <td>2.94</td>\n",
                            "      <td>33.4</td>\n",
                            "    </tr>\n",
                            "    <tr>\n",
                            "      <th>4</th>\n",
                            "      <td>4</td>\n",
                            "      <td>0.06905</td>\n",
                            "      <td>0.0</td>\n",
                            "      <td>2.18</td>\n",
                            "      <td>0.0</td>\n",
                            "      <td>0.458</td>\n",
                            "      <td>7.147</td>\n",
                            "      <td>54.2</td>\n",
                            "      <td>6.0622</td>\n",
                            "      <td>3.0</td>\n",
                            "      <td>222.0</td>\n",
                            "      <td>18.7</td>\n",
                            "      <td>5.33</td>\n",
                            "      <td>36.2</td>\n",
                            "    </tr>\n",
                            "    <tr>\n",
                            "      <th>5</th>\n",
                            "      <td>5</td>\n",
                            "      <td>0.02985</td>\n",
                            "      <td>0.0</td>\n",
                            "      <td>2.18</td>\n",
                            "      <td>0.0</td>\n",
                            "      <td>0.458</td>\n",
                            "      <td>6.430</td>\n",
                            "      <td>58.7</td>\n",
                            "      <td>6.0622</td>\n",
                            "      <td>3.0</td>\n",
                            "      <td>222.0</td>\n",
                            "      <td>18.7</td>\n",
                            "      <td>5.21</td>\n",
                            "      <td>28.7</td>\n",
                            "    </tr>\n",
                            "    <tr>\n",
                            "      <th>6</th>\n",
                            "      <td>6</td>\n",
                            "      <td>0.08829</td>\n",
                            "      <td>12.5</td>\n",
                            "      <td>7.87</td>\n",
                            "      <td>0.0</td>\n",
                            "      <td>0.524</td>\n",
                            "      <td>6.012</td>\n",
                            "      <td>66.6</td>\n",
                            "      <td>5.5605</td>\n",
                            "      <td>5.0</td>\n",
                            "      <td>311.0</td>\n",
                            "      <td>15.2</td>\n",
                            "      <td>12.43</td>\n",
                            "      <td>22.9</td>\n",
                            "    </tr>\n",
                            "    <tr>\n",
                            "      <th>7</th>\n",
                            "      <td>7</td>\n",
                            "      <td>0.14455</td>\n",
                            "      <td>12.5</td>\n",
                            "      <td>7.87</td>\n",
                            "      <td>0.0</td>\n",
                            "      <td>0.524</td>\n",
                            "      <td>6.172</td>\n",
                            "      <td>96.1</td>\n",
                            "      <td>5.9505</td>\n",
                            "      <td>5.0</td>\n",
                            "      <td>311.0</td>\n",
                            "      <td>15.2</td>\n",
                            "      <td>19.15</td>\n",
                            "      <td>27.1</td>\n",
                            "    </tr>\n",
                            "    <tr>\n",
                            "      <th>8</th>\n",
                            "      <td>8</td>\n",
                            "      <td>0.21124</td>\n",
                            "      <td>12.5</td>\n",
                            "      <td>7.87</td>\n",
                            "      <td>0.0</td>\n",
                            "      <td>0.524</td>\n",
                            "      <td>5.631</td>\n",
                            "      <td>100.0</td>\n",
                            "      <td>6.0821</td>\n",
                            "      <td>5.0</td>\n",
                            "      <td>311.0</td>\n",
                            "      <td>15.2</td>\n",
                            "      <td>29.93</td>\n",
                            "      <td>16.5</td>\n",
                            "    </tr>\n",
                            "    <tr>\n",
                            "      <th>9</th>\n",
                            "      <td>9</td>\n",
                            "      <td>0.17004</td>\n",
                            "      <td>12.5</td>\n",
                            "      <td>7.87</td>\n",
                            "      <td>0.0</td>\n",
                            "      <td>0.524</td>\n",
                            "      <td>6.004</td>\n",
                            "      <td>85.9</td>\n",
                            "      <td>6.5921</td>\n",
                            "      <td>5.0</td>\n",
                            "      <td>311.0</td>\n",
                            "      <td>15.2</td>\n",
                            "      <td>17.10</td>\n",
                            "      <td>18.9</td>\n",
                            "    </tr>\n",
                            "  </tbody>\n",
                            "</table>\n",
                            "</div>"
                        ],
                        "text/plain": [
                            "   Unnamed: 0     CRIM    ZN  INDUS  CHAS    NOX     RM    AGE     DIS  RAD  \\\n",
                            "0           0  0.00632  18.0   2.31   0.0  0.538  6.575   65.2  4.0900  1.0   \n",
                            "1           1  0.02731   0.0   7.07   0.0  0.469  6.421   78.9  4.9671  2.0   \n",
                            "2           2  0.02729   0.0   7.07   0.0  0.469  7.185   61.1  4.9671  2.0   \n",
                            "3           3  0.03237   0.0   2.18   0.0  0.458  6.998   45.8  6.0622  3.0   \n",
                            "4           4  0.06905   0.0   2.18   0.0  0.458  7.147   54.2  6.0622  3.0   \n",
                            "5           5  0.02985   0.0   2.18   0.0  0.458  6.430   58.7  6.0622  3.0   \n",
                            "6           6  0.08829  12.5   7.87   0.0  0.524  6.012   66.6  5.5605  5.0   \n",
                            "7           7  0.14455  12.5   7.87   0.0  0.524  6.172   96.1  5.9505  5.0   \n",
                            "8           8  0.21124  12.5   7.87   0.0  0.524  5.631  100.0  6.0821  5.0   \n",
                            "9           9  0.17004  12.5   7.87   0.0  0.524  6.004   85.9  6.5921  5.0   \n",
                            "\n",
                            "     TAX  PTRATIO  LSTAT  MEDV  \n",
                            "0  296.0     15.3   4.98  24.0  \n",
                            "1  242.0     17.8   9.14  21.6  \n",
                            "2  242.0     17.8   4.03  34.7  \n",
                            "3  222.0     18.7   2.94  33.4  \n",
                            "4  222.0     18.7   5.33  36.2  \n",
                            "5  222.0     18.7   5.21  28.7  \n",
                            "6  311.0     15.2  12.43  22.9  \n",
                            "7  311.0     15.2  19.15  27.1  \n",
                            "8  311.0     15.2  29.93  16.5  \n",
                            "9  311.0     15.2  17.10  18.9  "
                        ]
                    },
                    "execution_count": 25,
                    "metadata": {},
                    "output_type": "execute_result"
                }
            ],
            "source": [
                "boston_df.head(10)"
            ]
        },
        {
            "cell_type": "markdown",
            "metadata": {},
            "source": [
                "### Task 4: Generate Descriptive Statistics and Visualizations\n",
                "#### *For the 'Median value of owner-occupied homes' provide a boxplot*"
            ]
        },
        {
            "cell_type": "code",
            "execution_count": 26,
            "metadata": {
                "scrolled": false
            },
            "outputs": [
                {
                    "data": {
                        "text/plain": [
                            "Text(0.5, 1.0, 'Owner-occupied homes')"
                        ]
                    },
                    "execution_count": 26,
                    "metadata": {},
                    "output_type": "execute_result"
                },
                {
                    "data": {
                        "image/png": "[encoded data removed]",
                        "text/plain": [
                            "<Figure size 640x480 with 1 Axes>"
                        ]
                    },
                    "metadata": {},
                    "output_type": "display_data"
                }
            ],
            "source": [
                "ax = sns.boxplot(y = 'MEDV', data = boston_df)\n",
                "ax.set_title('Owner-occupied homes')"
            ]
        },
        {
            "cell_type": "markdown",
            "metadata": {},
            "source": [
                "The boxplot above shows the median value for the variable MEDV among with outliers"
            ]
        },
        {
            "cell_type": "markdown",
            "metadata": {},
            "source": [
                "#### *Provide a bar plot for the Charles River variable*"
            ]
        },
        {
            "cell_type": "code",
            "execution_count": 27,
            "metadata": {},
            "outputs": [
                {
                    "data": {
                        "text/plain": [
                            "Text(0.5, 1.0, 'Number of homes near the Charles River')"
                        ]
                    },
                    "execution_count": 27,
                    "metadata": {},
                    "output_type": "execute_result"
                },
                {
                    "data": {
                        "image/png": "[encoded data removed]",
                        "text/plain": [
                            "<Figure size 640x480 with 1 Axes>"
                        ]
                    },
                    "metadata": {},
                    "output_type": "display_data"
                }
            ],
            "source": [
                "ax2 = sns.countplot(x = 'CHAS', data = boston_df)\n",
                "ax2.set_title('Number of homes near the Charles River')"
            ]
        },
        {
            "cell_type": "markdown",
            "metadata": {},
            "source": [
                "The histogram shows that the majority of the houses are not near the Charles River"
            ]
        },
        {
            "cell_type": "markdown",
            "metadata": {},
            "source": [
                "#### *Provide a boxplot for the MEDV variable vs the AGE variable - Discretize the age variable into three groups of 35 years and younger, between 35 and 50 years and older*"
            ]
        },
        {
            "cell_type": "code",
            "execution_count": 28,
            "metadata": {},
            "outputs": [],
            "source": [
                "boston_df.loc[(boston_df['AGE'] <= 35), 'Age_Group'] = '35 years and younger'\n",
                "boston_df.loc[(boston_df['AGE'] > 35) & (boston_df['AGE'] < 70), 'Age_Group'] = 'between 35 and 70 years'\n",
                "boston_df.loc[(boston_df['AGE'] >= 70), 'Age_Group'] = '70 years and older'"
            ]
        },
        {
            "cell_type": "code",
            "execution_count": 29,
            "metadata": {
                "scrolled": false
            },
            "outputs": [
                {
                    "data": {
                        "text/plain": [
                            "Text(0.5, 1.0, 'Median value of owner-occupied homes per Age Group')"
                        ]
                    },
                    "execution_count": 29,
                    "metadata": {},
                    "output_type": "execute_result"
                },
                {
                    "data": {
                        "image/png": "[encoded data removed]",
                        "text/plain": [
                            "<Figure size 640x480 with 1 Axes>"
                        ]
                    },
                    "metadata": {},
                    "output_type": "display_data"
                }
            ],
            "source": [
                "ax3 = sns.boxplot(x = 'MEDV', y = 'Age_Group', data = boston_df)\n",
                "ax3.set_title('Median value of owner-occupied homes per Age Group')"
            ]
        },
        {
            "cell_type": "markdown",
            "metadata": {},
            "source": [
                "The boxplot above shows that on average the median value of owner occupied homes is higher when the Age is lower"
            ]
        },
        {
            "cell_type": "markdown",
            "metadata": {},
            "source": [
                "#### *Provide a scatter plot to show the relationship between Nitric oxide concentrations and the proportion of non-retail business acres per town. What can you say about the relationship?*"
            ]
        },
        {
            "cell_type": "code",
            "execution_count": 30,
            "metadata": {},
            "outputs": [
                {
                    "data": {
                        "text/plain": [
                            "Text(0.5, 1.0, 'Nitric oxide concentration per proportion of non-retail business acres per town')"
                        ]
                    },
                    "execution_count": 30,
                    "metadata": {},
                    "output_type": "execute_result"
                },
                {
                    "data": {
                        "image/png": "[encoded data removed]",
                        "text/plain": [
                            "<Figure size 640x480 with 1 Axes>"
                        ]
                    },
                    "metadata": {},
                    "output_type": "display_data"
                }
            ],
            "source": [
                "ax4 = sns.scatterplot(y = 'NOX', x = 'INDUS', data = boston_df)\n",
                "ax4.set_title('Nitric oxide concentration per proportion of non-retail business acres per town')"
            ]
        },
        {
            "cell_type": "markdown",
            "metadata": {},
            "source": [
                "Values in the bottom-left section of the scatter plot indicates a strong relation between low Nitric oxide concentration and low proportion of non-retail business acres per town. \n",
                "\n",
                "Generally, a higher proprtion of non-retail business acres per town produces a higher concentration of Nitric oxide."
            ]
        },
        {
            "cell_type": "markdown",
            "metadata": {},
            "source": [
                "#### *Create a histogram for the pupil to teacher ratio variable*"
            ]
        },
        {
            "cell_type": "code",
            "execution_count": 31,
            "metadata": {},
            "outputs": [
                {
                    "data": {
                        "text/plain": [
                            "Text(0.5, 1.0, 'Pupil to teacher ratio per town')"
                        ]
                    },
                    "execution_count": 31,
                    "metadata": {},
                    "output_type": "execute_result"
                },
                {
                    "data": {
                        "image/png": "[encoded data removed]",
                        "text/plain": [
                            "<Figure size 640x480 with 1 Axes>"
                        ]
                    },
                    "metadata": {},
                    "output_type": "display_data"
                }
            ],
            "source": [
                "ax5 = sns.countplot(x = 'PTRATIO', data = boston_df)\n",
                "ax5.set_title('Pupil to teacher ratio per town')"
            ]
        },
        {
            "cell_type": "markdown",
            "metadata": {},
            "source": [
                "## Task 5: Use the appropriate tests to answer the questions provided.\n",
                "#### *Is there a significant difference in median value of houses bounded by the Charles river or not? (T-test for independent samples)*"
            ]
        },
        {
            "cell_type": "markdown",
            "metadata": {},
            "source": [
                "Hypothesis:\n",
                "\n",
                "Null Hypothesis -> There's no significant difference in median value between houses bounded and not bounded by the Charles River\n",
                "\n",
                "Alternative Hypothesis -> There's a significant difference in median value between houses bounded and not bounded by the Charles River"
            ]
        },
        {
            "cell_type": "code",
            "execution_count": 32,
            "metadata": {},
            "outputs": [
                {
                    "data": {
                        "text/html": [
                            "<div>\n",
                            "<style scoped>\n",
                            "    .dataframe tbody tr th:only-of-type {\n",
                            "        vertical-align: middle;\n",
                            "    }\n",
                            "\n",
                            "    .dataframe tbody tr th {\n",
                            "        vertical-align: top;\n",
                            "    }\n",
                            "\n",
                            "    .dataframe thead th {\n",
                            "        text-align: right;\n",
                            "    }\n",
                            "</style>\n",
                            "<table border=\"1\" class=\"dataframe\">\n",
                            "  <thead>\n",
                            "    <tr style=\"text-align: right;\">\n",
                            "      <th></th>\n",
                            "      <th>Unnamed: 0</th>\n",
                            "      <th>CRIM</th>\n",
                            "      <th>ZN</th>\n",
                            "      <th>INDUS</th>\n",
                            "      <th>CHAS</th>\n",
                            "      <th>NOX</th>\n",
                            "      <th>RM</th>\n",
                            "      <th>AGE</th>\n",
                            "      <th>DIS</th>\n",
                            "      <th>RAD</th>\n",
                            "      <th>TAX</th>\n",
                            "      <th>PTRATIO</th>\n",
                            "      <th>LSTAT</th>\n",
                            "      <th>MEDV</th>\n",
                            "      <th>Age_Group</th>\n",
                            "      <th>CHAS_T</th>\n",
                            "    </tr>\n",
                            "  </thead>\n",
                            "  <tbody>\n",
                            "    <tr>\n",
                            "      <th>0</th>\n",
                            "      <td>0</td>\n",
                            "      <td>0.00632</td>\n",
                            "      <td>18.0</td>\n",
                            "      <td>2.31</td>\n",
                            "      <td>0.0</td>\n",
                            "      <td>0.538</td>\n",
                            "      <td>6.575</td>\n",
                            "      <td>65.2</td>\n",
                            "      <td>4.0900</td>\n",
                            "      <td>1.0</td>\n",
                            "      <td>296.0</td>\n",
                            "      <td>15.3</td>\n",
                            "      <td>4.98</td>\n",
                            "      <td>24.0</td>\n",
                            "      <td>between 35 and 70 years</td>\n",
                            "      <td>FAR</td>\n",
                            "    </tr>\n",
                            "    <tr>\n",
                            "      <th>1</th>\n",
                            "      <td>1</td>\n",
                            "      <td>0.02731</td>\n",
                            "      <td>0.0</td>\n",
                            "      <td>7.07</td>\n",
                            "      <td>0.0</td>\n",
                            "      <td>0.469</td>\n",
                            "      <td>6.421</td>\n",
                            "      <td>78.9</td>\n",
                            "      <td>4.9671</td>\n",
                            "      <td>2.0</td>\n",
                            "      <td>242.0</td>\n",
                            "      <td>17.8</td>\n",
                            "      <td>9.14</td>\n",
                            "      <td>21.6</td>\n",
                            "      <td>70 years and older</td>\n",
                            "      <td>FAR</td>\n",
                            "    </tr>\n",
                            "    <tr>\n",
                            "      <th>2</th>\n",
                            "      <td>2</td>\n",
                            "      <td>0.02729</td>\n",
                            "      <td>0.0</td>\n",
                            "      <td>7.07</td>\n",
                            "      <td>0.0</td>\n",
                            "      <td>0.469</td>\n",
                            "      <td>7.185</td>\n",
                            "      <td>61.1</td>\n",
                            "      <td>4.9671</td>\n",
                            "      <td>2.0</td>\n",
                            "      <td>242.0</td>\n",
                            "      <td>17.8</td>\n",
                            "      <td>4.03</td>\n",
                            "      <td>34.7</td>\n",
                            "      <td>between 35 and 70 years</td>\n",
                            "      <td>FAR</td>\n",
                            "    </tr>\n",
                            "    <tr>\n",
                            "      <th>3</th>\n",
                            "      <td>3</td>\n",
                            "      <td>0.03237</td>\n",
                            "      <td>0.0</td>\n",
                            "      <td>2.18</td>\n",
                            "      <td>0.0</td>\n",
                            "      <td>0.458</td>\n",
                            "      <td>6.998</td>\n",
                            "      <td>45.8</td>\n",
                            "      <td>6.0622</td>\n",
                            "      <td>3.0</td>\n",
                            "      <td>222.0</td>\n",
                            "      <td>18.7</td>\n",
                            "      <td>2.94</td>\n",
                            "      <td>33.4</td>\n",
                            "      <td>between 35 and 70 years</td>\n",
                            "      <td>FAR</td>\n",
                            "    </tr>\n",
                            "    <tr>\n",
                            "      <th>4</th>\n",
                            "      <td>4</td>\n",
                            "      <td>0.06905</td>\n",
                            "      <td>0.0</td>\n",
                            "      <td>2.18</td>\n",
                            "      <td>0.0</td>\n",
                            "      <td>0.458</td>\n",
                            "      <td>7.147</td>\n",
                            "      <td>54.2</td>\n",
                            "      <td>6.0622</td>\n",
                            "      <td>3.0</td>\n",
                            "      <td>222.0</td>\n",
                            "      <td>18.7</td>\n",
                            "      <td>5.33</td>\n",
                            "      <td>36.2</td>\n",
                            "      <td>between 35 and 70 years</td>\n",
                            "      <td>FAR</td>\n",
                            "    </tr>\n",
                            "  </tbody>\n",
                            "</table>\n",
                            "</div>"
                        ],
                        "text/plain": [
                            "   Unnamed: 0     CRIM    ZN  INDUS  CHAS    NOX     RM   AGE     DIS  RAD  \\\n",
                            "0           0  0.00632  18.0   2.31   0.0  0.538  6.575  65.2  4.0900  1.0   \n",
                            "1           1  0.02731   0.0   7.07   0.0  0.469  6.421  78.9  4.9671  2.0   \n",
                            "2           2  0.02729   0.0   7.07   0.0  0.469  7.185  61.1  4.9671  2.0   \n",
                            "3           3  0.03237   0.0   2.18   0.0  0.458  6.998  45.8  6.0622  3.0   \n",
                            "4           4  0.06905   0.0   2.18   0.0  0.458  7.147  54.2  6.0622  3.0   \n",
                            "\n",
                            "     TAX  PTRATIO  LSTAT  MEDV                Age_Group CHAS_T  \n",
                            "0  296.0     15.3   4.98  24.0  between 35 and 70 years    FAR  \n",
                            "1  242.0     17.8   9.14  21.6       70 years and older    FAR  \n",
                            "2  242.0     17.8   4.03  34.7  between 35 and 70 years    FAR  \n",
                            "3  222.0     18.7   2.94  33.4  between 35 and 70 years    FAR  \n",
                            "4  222.0     18.7   5.33  36.2  between 35 and 70 years    FAR  "
                        ]
                    },
                    "execution_count": 32,
                    "metadata": {},
                    "output_type": "execute_result"
                }
            ],
            "source": [
                "boston_df.loc[(boston_df['CHAS'] == 0), 'CHAS_T'] = 'FAR'\n",
                "boston_df.loc[(boston_df['CHAS'] == 1), 'CHAS_T'] = 'NEAR'\n",
                "boston_df.head(5)"
            ]
        },
        {
            "cell_type": "code",
            "execution_count": 33,
            "metadata": {},
            "outputs": [
                {
                    "data": {
                        "text/plain": [
                            "TtestResult(statistic=-3.996437466090509, pvalue=7.390623170519905e-05, df=504.0)"
                        ]
                    },
                    "execution_count": 33,
                    "metadata": {},
                    "output_type": "execute_result"
                }
            ],
            "source": [
                "scipy.stats.ttest_ind(boston_df[boston_df['CHAS_T'] == 'FAR']['MEDV'], \n",
                "                      boston_df[boston_df['CHAS_T'] == 'NEAR']['MEDV'], equal_var = True)"
            ]
        },
        {
            "cell_type": "markdown",
            "metadata": {},
            "source": [
                "Given the p-value is less than 0.05, we reject the Null Hypothesis, meaning there is not a statistical difference in median value betwenn houses near the Charles River and houses far away"
            ]
        },
        {
            "cell_type": "markdown",
            "metadata": {},
            "source": [
                "#### *Is there a difference in Median values of houses (MEDV) for each proportion of owner occupied units built prior to 1940 (AGE)? (ANOVA)*"
            ]
        },
        {
            "cell_type": "markdown",
            "metadata": {},
            "source": [
                "Hypothesis\n",
                "    \n",
                "    Null Hypotesis: There isn't statistical difference in Median values of houses (MEDV) for each proportion of owner occpied units built prior to 1940\n",
                "    \n",
                "    Alternative Hypothesis: There is statistical difference in Median values of houses (MEDV) for each proportion of owner occpied units built prior to 1940\n",
                "   "
            ]
        },
        {
            "cell_type": "code",
            "execution_count": 34,
            "metadata": {},
            "outputs": [
                {
                    "name": "stdout",
                    "output_type": "stream",
                    "text": [
                        "             df        sum_sq      mean_sq          F        PR(>F)\n",
                        "AGE         1.0   6069.761065  6069.761065  83.477459  1.569982e-18\n",
                        "Residual  504.0  36646.534350    72.711378        NaN           NaN\n"
                    ]
                }
            ],
            "source": [
                "from statsmodels.formula.api import ols\n",
                "lm = ols('MEDV ~ AGE', data = boston_df).fit()\n",
                "table = sm.stats.anova_lm(lm)\n",
                "print(table)"
            ]
        },
        {
            "cell_type": "markdown",
            "metadata": {},
            "source": [
                "Given p-value is less than 0.05, we fail to accept the Null Hypothesis --> There is statistical difference in Median values of houses (MEDV) for each proportion of owner occpied units built prior to 1940"
            ]
        },
        {
            "cell_type": "markdown",
            "metadata": {},
            "source": [
                "#### *Can we conclude that there is no relationship between Nitric oxide concentrations and proportion of non-retail business acres per town? (Pearson Correlation)*"
            ]
        },
        {
            "cell_type": "markdown",
            "metadata": {},
            "source": [
                "Null Hypothesis: Nitric Oxide concentration is not correlated with the proportion of non-retail business acres per town\n",
                "\n",
                "Alternative Hypothesis: Nitric Oxide concentration is correlated with the proportion of non-retail business acres per town"
            ]
        },
        {
            "cell_type": "code",
            "execution_count": 35,
            "metadata": {},
            "outputs": [
                {
                    "data": {
                        "text/plain": [
                            "PearsonRResult(statistic=0.7636514469209157, pvalue=7.91336106123623e-98)"
                        ]
                    },
                    "execution_count": 35,
                    "metadata": {},
                    "output_type": "execute_result"
                }
            ],
            "source": [
                "scipy.stats.pearsonr(boston_df['NOX'], boston_df['INDUS'])"
            ]
        },
        {
            "cell_type": "markdown",
            "metadata": {},
            "source": [
                "Given the Pearson Coefficient is 0.76365 and p-value less than 0.05, we reject the Null Hypothesis as there is a positive correlation between Nitric oxide concentration and proportion of non-retail business acres per town\n",
                "\n",
                "The positive relationship is confirmed also with the Scatter Plot (Question 4)"
            ]
        },
        {
            "cell_type": "markdown",
            "metadata": {},
            "source": [
                "#### *What is the impact of an additional weighted distance  to the five Boston employment centres on the median value of owner occupied homes? (Regression analysis)*"
            ]
        },
        {
            "cell_type": "code",
            "execution_count": 36,
            "metadata": {},
            "outputs": [
                {
                    "data": {
                        "text/html": [
                            "<table class=\"simpletable\">\n",
                            "<caption>OLS Regression Results</caption>\n",
                            "<tr>\n",
                            "  <th>Dep. Variable:</th>          <td>MEDV</td>       <th>  R-squared:         </th> <td>   0.062</td>\n",
                            "</tr>\n",
                            "<tr>\n",
                            "  <th>Model:</th>                   <td>OLS</td>       <th>  Adj. R-squared:    </th> <td>   0.061</td>\n",
                            "</tr>\n",
                            "<tr>\n",
                            "  <th>Method:</th>             <td>Least Squares</td>  <th>  F-statistic:       </th> <td>   33.58</td>\n",
                            "</tr>\n",
                            "<tr>\n",
                            "  <th>Date:</th>             <td>Tue, 12 Dec 2023</td> <th>  Prob (F-statistic):</th> <td>1.21e-08</td>\n",
                            "</tr>\n",
                            "<tr>\n",
                            "  <th>Time:</th>                 <td>10:06:20</td>     <th>  Log-Likelihood:    </th> <td> -1823.9</td>\n",
                            "</tr>\n",
                            "<tr>\n",
                            "  <th>No. Observations:</th>      <td>   506</td>      <th>  AIC:               </th> <td>   3652.</td>\n",
                            "</tr>\n",
                            "<tr>\n",
                            "  <th>Df Residuals:</th>          <td>   504</td>      <th>  BIC:               </th> <td>   3660.</td>\n",
                            "</tr>\n",
                            "<tr>\n",
                            "  <th>Df Model:</th>              <td>     1</td>      <th>                     </th>     <td> </td>   \n",
                            "</tr>\n",
                            "<tr>\n",
                            "  <th>Covariance Type:</th>      <td>nonrobust</td>    <th>                     </th>     <td> </td>   \n",
                            "</tr>\n",
                            "</table>\n",
                            "<table class=\"simpletable\">\n",
                            "<tr>\n",
                            "    <td></td>       <th>coef</th>     <th>std err</th>      <th>t</th>      <th>P>|t|</th>  <th>[0.025</th>    <th>0.975]</th>  \n",
                            "</tr>\n",
                            "<tr>\n",
                            "  <th>const</th> <td>   18.3901</td> <td>    0.817</td> <td>   22.499</td> <td> 0.000</td> <td>   16.784</td> <td>   19.996</td>\n",
                            "</tr>\n",
                            "<tr>\n",
                            "  <th>DIS</th>   <td>    1.0916</td> <td>    0.188</td> <td>    5.795</td> <td> 0.000</td> <td>    0.722</td> <td>    1.462</td>\n",
                            "</tr>\n",
                            "</table>\n",
                            "<table class=\"simpletable\">\n",
                            "<tr>\n",
                            "  <th>Omnibus:</th>       <td>139.779</td> <th>  Durbin-Watson:     </th> <td>   0.570</td>\n",
                            "</tr>\n",
                            "<tr>\n",
                            "  <th>Prob(Omnibus):</th> <td> 0.000</td>  <th>  Jarque-Bera (JB):  </th> <td> 305.104</td>\n",
                            "</tr>\n",
                            "<tr>\n",
                            "  <th>Skew:</th>          <td> 1.466</td>  <th>  Prob(JB):          </th> <td>5.59e-67</td>\n",
                            "</tr>\n",
                            "<tr>\n",
                            "  <th>Kurtosis:</th>      <td> 5.424</td>  <th>  Cond. No.          </th> <td>    9.32</td>\n",
                            "</tr>\n",
                            "</table><br/><br/>Notes:<br/>[1] Standard Errors assume that the covariance matrix of the errors is correctly specified."
                        ],
                        "text/latex": [
                            "\\begin{center}\n",
                            "\\begin{tabular}{lclc}\n",
                            "\\toprule\n",
                            "\\textbf{Dep. Variable:}    &       MEDV       & \\textbf{  R-squared:         } &     0.062   \\\\\n",
                            "\\textbf{Model:}            &       OLS        & \\textbf{  Adj. R-squared:    } &     0.061   \\\\\n",
                            "\\textbf{Method:}           &  Least Squares   & \\textbf{  F-statistic:       } &     33.58   \\\\\n",
                            "\\textbf{Date:}             & Tue, 12 Dec 2023 & \\textbf{  Prob (F-statistic):} &  1.21e-08   \\\\\n",
                            "\\textbf{Time:}             &     10:06:20     & \\textbf{  Log-Likelihood:    } &   -1823.9   \\\\\n",
                            "\\textbf{No. Observations:} &         506      & \\textbf{  AIC:               } &     3652.   \\\\\n",
                            "\\textbf{Df Residuals:}     &         504      & \\textbf{  BIC:               } &     3660.   \\\\\n",
                            "\\textbf{Df Model:}         &           1      & \\textbf{                     } &             \\\\\n",
                            "\\textbf{Covariance Type:}  &    nonrobust     & \\textbf{                     } &             \\\\\n",
                            "\\bottomrule\n",
                            "\\end{tabular}\n",
                            "\\begin{tabular}{lcccccc}\n",
                            "               & \\textbf{coef} & \\textbf{std err} & \\textbf{t} & \\textbf{P$> |$t$|$} & \\textbf{[0.025} & \\textbf{0.975]}  \\\\\n",
                            "\\midrule\n",
                            "\\textbf{const} &      18.3901  &        0.817     &    22.499  &         0.000        &       16.784    &       19.996     \\\\\n",
                            "\\textbf{DIS}   &       1.0916  &        0.188     &     5.795  &         0.000        &        0.722    &        1.462     \\\\\n",
                            "\\bottomrule\n",
                            "\\end{tabular}\n",
                            "\\begin{tabular}{lclc}\n",
                            "\\textbf{Omnibus:}       & 139.779 & \\textbf{  Durbin-Watson:     } &    0.570  \\\\\n",
                            "\\textbf{Prob(Omnibus):} &   0.000 & \\textbf{  Jarque-Bera (JB):  } &  305.104  \\\\\n",
                            "\\textbf{Skew:}          &   1.466 & \\textbf{  Prob(JB):          } & 5.59e-67  \\\\\n",
                            "\\textbf{Kurtosis:}      &   5.424 & \\textbf{  Cond. No.          } &     9.32  \\\\\n",
                            "\\bottomrule\n",
                            "\\end{tabular}\n",
                            "%\\caption{OLS Regression Results}\n",
                            "\\end{center}\n",
                            "\n",
                            "Notes: \\newline\n",
                            " [1] Standard Errors assume that the covariance matrix of the errors is correctly specified."
                        ],
                        "text/plain": [
                            "<class 'statsmodels.iolib.summary.Summary'>\n",
                            "\"\"\"\n",
                            "                            OLS Regression Results                            \n",
                            "==============================================================================\n",
                            "Dep. Variable:                   MEDV   R-squared:                       0.062\n",
                            "Model:                            OLS   Adj. R-squared:                  0.061\n",
                            "Method:                 Least Squares   F-statistic:                     33.58\n",
                            "Date:                Tue, 12 Dec 2023   Prob (F-statistic):           1.21e-08\n",
                            "Time:                        10:06:20   Log-Likelihood:                -1823.9\n",
                            "No. Observations:                 506   AIC:                             3652.\n",
                            "Df Residuals:                     504   BIC:                             3660.\n",
                            "Df Model:                           1                                         \n",
                            "Covariance Type:            nonrobust                                         \n",
                            "==============================================================================\n",
                            "                 coef    std err          t      P>|t|      [0.025      0.975]\n",
                            "------------------------------------------------------------------------------\n",
                            "const         18.3901      0.817     22.499      0.000      16.784      19.996\n",
                            "DIS            1.0916      0.188      5.795      0.000       0.722       1.462\n",
                            "==============================================================================\n",
                            "Omnibus:                      139.779   Durbin-Watson:                   0.570\n",
                            "Prob(Omnibus):                  0.000   Jarque-Bera (JB):              305.104\n",
                            "Skew:                           1.466   Prob(JB):                     5.59e-67\n",
                            "Kurtosis:                       5.424   Cond. No.                         9.32\n",
                            "==============================================================================\n",
                            "\n",
                            "Notes:\n",
                            "[1] Standard Errors assume that the covariance matrix of the errors is correctly specified.\n",
                            "\"\"\""
                        ]
                    },
                    "execution_count": 36,
                    "metadata": {},
                    "output_type": "execute_result"
                }
            ],
            "source": [
                "x = boston_df['DIS']\n",
                "y = boston_df['MEDV']\n",
                "\n",
                "x = sm.add_constant(x)\n",
                "\n",
                "model = sm.OLS(y, x).fit()\n",
                "predisction = model.predict(x)\n",
                "\n",
                "model.summary()"
            ]
        },
        {
            "cell_type": "markdown",
            "metadata": {},
            "source": [
                "The coefficient \"DIS\" of 1.0916 indicates that an additional weighted distance to the 5 empolyment centers in boston increases of 1.0916 the median value of owner occupied homes "
            ]
        }
    ],
    "metadata": {
        "kernelspec": {
            "display_name": "Python 3.7",
            "language": "python",
            "name": "python3"
        },
        "language_info": {
            "codemirror_mode": {
                "name": "ipython",
                "version": 3
            },
            "file_extension": ".py",
            "mimetype": "text/x-python",
            "name": "python",
            "nbconvert_exporter": "python",
            "pygments_lexer": "ipython3",
            "version": "3.12.0"
        }
    },
    "nbformat": 4,
    "nbformat_minor": 1
}
